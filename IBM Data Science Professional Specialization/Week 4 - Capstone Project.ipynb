{
    "nbformat_minor": 2, 
    "cells": [
        {
            "source": "# Research on opening a new shopping mall in Helsinki, Finland by clustering neighbourhoods using Foursquare data", 
            "cell_type": "markdown", 
            "metadata": {}
        }, 
        {
            "source": "## [Final Capstone Project - IBM Data Science Professional Specialization](https://www.coursera.org/learn/applied-data-science-capstone/home/welcome)", 
            "cell_type": "markdown", 
            "metadata": {}
        }, 
        {
            "source": "By [Hien S. Nguyen](https://www.linkedin.com/in/hiennguyen3994/), 07 May 2019", 
            "cell_type": "markdown", 
            "metadata": {}
        }, 
        {
            "source": "<a><img src = \"https://plugmeinproject.com/wp-content/uploads/2016/08/Helsinki.jpg\" width = 900, align = \"center\"></a>", 
            "cell_type": "markdown", 
            "metadata": {}
        }, 
        {
            "source": "## Project Introduction", 
            "cell_type": "markdown", 
            "metadata": {}
        }, 
        {
            "source": "Located on a peninsula in the Gulf of Finland, Helsinki is the Capital of Finland and the centre of the Helsinki Region with over 600,000 inhabitants. As the city grows and develops, it becomes increasingly important to examine and understand it quantitiatively.\n\nThe objective of this capstone project is to analyse and explore the best locations in the city of Helsinki to open a new shopping mall. By following data science methodology and applying Clustering technique, this project aims to provide solutions to answer the following business questions: \n- Where is the potential area to open a shopping mall?\n- How many potential areas are in Helsinki? \n- Which areas do they share similar characteristics to each other?  ", 
            "cell_type": "markdown", 
            "metadata": {}
        }, 
        {
            "source": "## Data", 
            "cell_type": "markdown", 
            "metadata": {}
        }, 
        {
            "source": "#### In order to answer the research questions, it is required the following datasets:\n\n1. List of Helsinki Neighbourhoods https://en.wikipedia.org/wiki/Category:Neighbourhoods_of_Helsinki\n2. Longtitude & Latitude coordinates of Helsinki Neighbourhoods from Python Geocoder Library\n3. Venue data associated to the neighbourhoods from Foursquare Developer: https://developer.foursquare.com", 
            "cell_type": "markdown", 
            "metadata": {}
        }, 
        {
            "source": "## Methodology", 
            "cell_type": "markdown", 
            "metadata": {}
        }, 
        {
            "source": "1. Build a dataframe of neighborhoods in Helsinki, Finland by web scraping the data from Wikipedia page\n2. Get the geographical coordinates of the neighborhoods\n3. Obtain the venue data for the neighborhoods from Foursquare API\n4. Perform k-means statisical analysis on venues by locations of interest based on findings from the neighbourhoods\n5. Select the best cluster to open a new shopping mall", 
            "cell_type": "markdown", 
            "metadata": {}
        }
    ], 
    "metadata": {
        "kernelspec": {
            "display_name": "Python 3.5", 
            "name": "python3", 
            "language": "python"
        }, 
        "language_info": {
            "mimetype": "text/x-python", 
            "nbconvert_exporter": "python", 
            "version": "3.5.5", 
            "name": "python", 
            "file_extension": ".py", 
            "pygments_lexer": "ipython3", 
            "codemirror_mode": {
                "version": 3, 
                "name": "ipython"
            }
        }
    }, 
    "nbformat": 4
}